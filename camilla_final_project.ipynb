{
  "cells": [
    {
      "cell_type": "markdown",
      "metadata": {
        "id": "view-in-github",
        "colab_type": "text"
      },
      "source": [
        "<a href=\"https://colab.research.google.com/github/mavilacamilla/WBDS_LA_final_project/blob/main/camilla_final_project.ipynb\" target=\"_parent\"><img src=\"https://colab.research.google.com/assets/colab-badge.svg\" alt=\"Open In Colab\"/></a>"
      ]
    },
    {
      "cell_type": "markdown",
      "source": [
        "#Instalação dos Pacotes Necessários \n"
      ],
      "metadata": {
        "id": "XOLrITKCNBsv"
      },
      "id": "XOLrITKCNBsv"
    },
    {
      "cell_type": "markdown",
      "source": [
        "## <font color=red>**2023 Projeto Final Submetido ao WBDS LA Camp** \n",
        "\n",
        "### <font color=lightblue> Aluna: Camilla de Ávila"
      ],
      "metadata": {
        "id": "U77MbSCiOD-c"
      },
      "id": "U77MbSCiOD-c"
    },
    {
      "cell_type": "code",
      "source": [
        "pip install pyrodigal"
      ],
      "metadata": {
        "id": "w_HQOWLqEy83",
        "outputId": "a9580f64-25b1-49b7-dfe3-eb44a90a7756",
        "colab": {
          "base_uri": "https://localhost:8080/"
        }
      },
      "id": "w_HQOWLqEy83",
      "execution_count": 1,
      "outputs": [
        {
          "output_type": "stream",
          "name": "stdout",
          "text": [
            "Looking in indexes: https://pypi.org/simple, https://us-python.pkg.dev/colab-wheels/public/simple/\n",
            "Collecting pyrodigal\n",
            "  Downloading pyrodigal-2.1.0-cp39-cp39-manylinux_2_17_x86_64.manylinux2014_x86_64.whl (4.4 MB)\n",
            "\u001b[2K     \u001b[90m━━━━━━━━━━━━━━━━━━━━━━━━━━━━━━━━━━━━━━━━\u001b[0m \u001b[32m4.4/4.4 MB\u001b[0m \u001b[31m27.0 MB/s\u001b[0m eta \u001b[36m0:00:00\u001b[0m\n",
            "\u001b[?25hInstalling collected packages: pyrodigal\n",
            "Successfully installed pyrodigal-2.1.0\n"
          ]
        }
      ]
    },
    {
      "cell_type": "code",
      "source": [
        "pip install matplotlib"
      ],
      "metadata": {
        "id": "QNNjJi2gEdsM",
        "outputId": "7dc18421-340d-41e3-9370-82fb32b33cea",
        "colab": {
          "base_uri": "https://localhost:8080/"
        }
      },
      "id": "QNNjJi2gEdsM",
      "execution_count": 2,
      "outputs": [
        {
          "output_type": "stream",
          "name": "stdout",
          "text": [
            "Looking in indexes: https://pypi.org/simple, https://us-python.pkg.dev/colab-wheels/public/simple/\n",
            "Requirement already satisfied: matplotlib in /usr/local/lib/python3.9/dist-packages (3.7.1)\n",
            "Requirement already satisfied: contourpy>=1.0.1 in /usr/local/lib/python3.9/dist-packages (from matplotlib) (1.0.7)\n",
            "Requirement already satisfied: pyparsing>=2.3.1 in /usr/local/lib/python3.9/dist-packages (from matplotlib) (3.0.9)\n",
            "Requirement already satisfied: numpy>=1.20 in /usr/local/lib/python3.9/dist-packages (from matplotlib) (1.22.4)\n",
            "Requirement already satisfied: cycler>=0.10 in /usr/local/lib/python3.9/dist-packages (from matplotlib) (0.11.0)\n",
            "Requirement already satisfied: python-dateutil>=2.7 in /usr/local/lib/python3.9/dist-packages (from matplotlib) (2.8.2)\n",
            "Requirement already satisfied: packaging>=20.0 in /usr/local/lib/python3.9/dist-packages (from matplotlib) (23.0)\n",
            "Requirement already satisfied: pillow>=6.2.0 in /usr/local/lib/python3.9/dist-packages (from matplotlib) (8.4.0)\n",
            "Requirement already satisfied: importlib-resources>=3.2.0 in /usr/local/lib/python3.9/dist-packages (from matplotlib) (5.12.0)\n",
            "Requirement already satisfied: kiwisolver>=1.0.1 in /usr/local/lib/python3.9/dist-packages (from matplotlib) (1.4.4)\n",
            "Requirement already satisfied: fonttools>=4.22.0 in /usr/local/lib/python3.9/dist-packages (from matplotlib) (4.39.0)\n",
            "Requirement already satisfied: zipp>=3.1.0 in /usr/local/lib/python3.9/dist-packages (from importlib-resources>=3.2.0->matplotlib) (3.15.0)\n",
            "Requirement already satisfied: six>=1.5 in /usr/local/lib/python3.9/dist-packages (from python-dateutil>=2.7->matplotlib) (1.15.0)\n"
          ]
        }
      ]
    },
    {
      "cell_type": "code",
      "source": [
        "pip install pandas"
      ],
      "metadata": {
        "id": "7sSnxIA2Ef5p",
        "outputId": "004a4f25-f7cc-4ffd-b27d-e0b1535f7ba9",
        "colab": {
          "base_uri": "https://localhost:8080/"
        }
      },
      "id": "7sSnxIA2Ef5p",
      "execution_count": 3,
      "outputs": [
        {
          "output_type": "stream",
          "name": "stdout",
          "text": [
            "Looking in indexes: https://pypi.org/simple, https://us-python.pkg.dev/colab-wheels/public/simple/\n",
            "Requirement already satisfied: pandas in /usr/local/lib/python3.9/dist-packages (1.4.4)\n",
            "Requirement already satisfied: python-dateutil>=2.8.1 in /usr/local/lib/python3.9/dist-packages (from pandas) (2.8.2)\n",
            "Requirement already satisfied: pytz>=2020.1 in /usr/local/lib/python3.9/dist-packages (from pandas) (2022.7.1)\n",
            "Requirement already satisfied: numpy>=1.18.5 in /usr/local/lib/python3.9/dist-packages (from pandas) (1.22.4)\n",
            "Requirement already satisfied: six>=1.5 in /usr/local/lib/python3.9/dist-packages (from python-dateutil>=2.8.1->pandas) (1.15.0)\n"
          ]
        }
      ]
    },
    {
      "cell_type": "code",
      "source": [
        "pip install credentials"
      ],
      "metadata": {
        "id": "CjdXgeV1EoKq",
        "outputId": "837b09b0-0feb-40d3-d9e0-eb34b432025d",
        "colab": {
          "base_uri": "https://localhost:8080/"
        }
      },
      "id": "CjdXgeV1EoKq",
      "execution_count": 4,
      "outputs": [
        {
          "output_type": "stream",
          "name": "stdout",
          "text": [
            "Looking in indexes: https://pypi.org/simple, https://us-python.pkg.dev/colab-wheels/public/simple/\n",
            "Collecting credentials\n",
            "  Downloading credentials-1.1-py2.py3-none-any.whl (4.2 kB)\n",
            "Installing collected packages: credentials\n",
            "Successfully installed credentials-1.1\n"
          ]
        }
      ]
    },
    {
      "cell_type": "code",
      "source": [
        "pip install pycirclize"
      ],
      "metadata": {
        "id": "eoCX3wHHEuzH",
        "outputId": "338b79da-43be-408d-c499-db810725e080",
        "colab": {
          "base_uri": "https://localhost:8080/"
        }
      },
      "id": "eoCX3wHHEuzH",
      "execution_count": 5,
      "outputs": [
        {
          "output_type": "stream",
          "name": "stdout",
          "text": [
            "Looking in indexes: https://pypi.org/simple, https://us-python.pkg.dev/colab-wheels/public/simple/\n",
            "Collecting pycirclize\n",
            "  Downloading pycirclize-0.2.0-py3-none-any.whl (53 kB)\n",
            "\u001b[2K     \u001b[90m━━━━━━━━━━━━━━━━━━━━━━━━━━━━━━━━━━━━━━━━\u001b[0m \u001b[32m53.4/53.4 KB\u001b[0m \u001b[31m2.3 MB/s\u001b[0m eta \u001b[36m0:00:00\u001b[0m\n",
            "\u001b[?25hRequirement already satisfied: pandas>=1.3.5 in /usr/local/lib/python3.9/dist-packages (from pycirclize) (1.4.4)\n",
            "Requirement already satisfied: numpy>=1.21.1 in /usr/local/lib/python3.9/dist-packages (from pycirclize) (1.22.4)\n",
            "Collecting biopython>=1.79\n",
            "  Downloading biopython-1.81-cp39-cp39-manylinux_2_17_x86_64.manylinux2014_x86_64.whl (3.1 MB)\n",
            "\u001b[2K     \u001b[90m━━━━━━━━━━━━━━━━━━━━━━━━━━━━━━━━━━━━━━━━\u001b[0m \u001b[32m3.1/3.1 MB\u001b[0m \u001b[31m35.6 MB/s\u001b[0m eta \u001b[36m0:00:00\u001b[0m\n",
            "\u001b[?25hRequirement already satisfied: matplotlib>=3.5.2 in /usr/local/lib/python3.9/dist-packages (from pycirclize) (3.7.1)\n",
            "Requirement already satisfied: pillow>=6.2.0 in /usr/local/lib/python3.9/dist-packages (from matplotlib>=3.5.2->pycirclize) (8.4.0)\n",
            "Requirement already satisfied: packaging>=20.0 in /usr/local/lib/python3.9/dist-packages (from matplotlib>=3.5.2->pycirclize) (23.0)\n",
            "Requirement already satisfied: python-dateutil>=2.7 in /usr/local/lib/python3.9/dist-packages (from matplotlib>=3.5.2->pycirclize) (2.8.2)\n",
            "Requirement already satisfied: kiwisolver>=1.0.1 in /usr/local/lib/python3.9/dist-packages (from matplotlib>=3.5.2->pycirclize) (1.4.4)\n",
            "Requirement already satisfied: fonttools>=4.22.0 in /usr/local/lib/python3.9/dist-packages (from matplotlib>=3.5.2->pycirclize) (4.39.0)\n",
            "Requirement already satisfied: contourpy>=1.0.1 in /usr/local/lib/python3.9/dist-packages (from matplotlib>=3.5.2->pycirclize) (1.0.7)\n",
            "Requirement already satisfied: importlib-resources>=3.2.0 in /usr/local/lib/python3.9/dist-packages (from matplotlib>=3.5.2->pycirclize) (5.12.0)\n",
            "Requirement already satisfied: pyparsing>=2.3.1 in /usr/local/lib/python3.9/dist-packages (from matplotlib>=3.5.2->pycirclize) (3.0.9)\n",
            "Requirement already satisfied: cycler>=0.10 in /usr/local/lib/python3.9/dist-packages (from matplotlib>=3.5.2->pycirclize) (0.11.0)\n",
            "Requirement already satisfied: pytz>=2020.1 in /usr/local/lib/python3.9/dist-packages (from pandas>=1.3.5->pycirclize) (2022.7.1)\n",
            "Requirement already satisfied: zipp>=3.1.0 in /usr/local/lib/python3.9/dist-packages (from importlib-resources>=3.2.0->matplotlib>=3.5.2->pycirclize) (3.15.0)\n",
            "Requirement already satisfied: six>=1.5 in /usr/local/lib/python3.9/dist-packages (from python-dateutil>=2.7->matplotlib>=3.5.2->pycirclize) (1.15.0)\n",
            "Installing collected packages: biopython, pycirclize\n",
            "Successfully installed biopython-1.81 pycirclize-0.2.0\n"
          ]
        }
      ]
    },
    {
      "cell_type": "code",
      "source": [
        "pip install requests"
      ],
      "metadata": {
        "id": "zNkoaCuyE4lb",
        "outputId": "d715b71b-bf59-485f-a487-d8e2cf8254a0",
        "colab": {
          "base_uri": "https://localhost:8080/"
        }
      },
      "id": "zNkoaCuyE4lb",
      "execution_count": 6,
      "outputs": [
        {
          "output_type": "stream",
          "name": "stdout",
          "text": [
            "Looking in indexes: https://pypi.org/simple, https://us-python.pkg.dev/colab-wheels/public/simple/\n",
            "Requirement already satisfied: requests in /usr/local/lib/python3.9/dist-packages (2.25.1)\n",
            "Requirement already satisfied: urllib3<1.27,>=1.21.1 in /usr/local/lib/python3.9/dist-packages (from requests) (1.26.15)\n",
            "Requirement already satisfied: certifi>=2017.4.17 in /usr/local/lib/python3.9/dist-packages (from requests) (2022.12.7)\n",
            "Requirement already satisfied: chardet<5,>=3.0.2 in /usr/local/lib/python3.9/dist-packages (from requests) (4.0.0)\n",
            "Requirement already satisfied: idna<3,>=2.5 in /usr/local/lib/python3.9/dist-packages (from requests) (2.10)\n"
          ]
        }
      ]
    },
    {
      "cell_type": "code",
      "source": [
        "pip install seaborn"
      ],
      "metadata": {
        "id": "iFQAWqrRE9L-",
        "outputId": "91521e8d-6551-4dd4-8773-650053701c28",
        "colab": {
          "base_uri": "https://localhost:8080/"
        }
      },
      "id": "iFQAWqrRE9L-",
      "execution_count": 7,
      "outputs": [
        {
          "output_type": "stream",
          "name": "stdout",
          "text": [
            "Looking in indexes: https://pypi.org/simple, https://us-python.pkg.dev/colab-wheels/public/simple/\n",
            "Requirement already satisfied: seaborn in /usr/local/lib/python3.9/dist-packages (0.12.2)\n",
            "Requirement already satisfied: matplotlib!=3.6.1,>=3.1 in /usr/local/lib/python3.9/dist-packages (from seaborn) (3.7.1)\n",
            "Requirement already satisfied: numpy!=1.24.0,>=1.17 in /usr/local/lib/python3.9/dist-packages (from seaborn) (1.22.4)\n",
            "Requirement already satisfied: pandas>=0.25 in /usr/local/lib/python3.9/dist-packages (from seaborn) (1.4.4)\n",
            "Requirement already satisfied: pillow>=6.2.0 in /usr/local/lib/python3.9/dist-packages (from matplotlib!=3.6.1,>=3.1->seaborn) (8.4.0)\n",
            "Requirement already satisfied: kiwisolver>=1.0.1 in /usr/local/lib/python3.9/dist-packages (from matplotlib!=3.6.1,>=3.1->seaborn) (1.4.4)\n",
            "Requirement already satisfied: cycler>=0.10 in /usr/local/lib/python3.9/dist-packages (from matplotlib!=3.6.1,>=3.1->seaborn) (0.11.0)\n",
            "Requirement already satisfied: importlib-resources>=3.2.0 in /usr/local/lib/python3.9/dist-packages (from matplotlib!=3.6.1,>=3.1->seaborn) (5.12.0)\n",
            "Requirement already satisfied: packaging>=20.0 in /usr/local/lib/python3.9/dist-packages (from matplotlib!=3.6.1,>=3.1->seaborn) (23.0)\n",
            "Requirement already satisfied: contourpy>=1.0.1 in /usr/local/lib/python3.9/dist-packages (from matplotlib!=3.6.1,>=3.1->seaborn) (1.0.7)\n",
            "Requirement already satisfied: pyparsing>=2.3.1 in /usr/local/lib/python3.9/dist-packages (from matplotlib!=3.6.1,>=3.1->seaborn) (3.0.9)\n",
            "Requirement already satisfied: fonttools>=4.22.0 in /usr/local/lib/python3.9/dist-packages (from matplotlib!=3.6.1,>=3.1->seaborn) (4.39.0)\n",
            "Requirement already satisfied: python-dateutil>=2.7 in /usr/local/lib/python3.9/dist-packages (from matplotlib!=3.6.1,>=3.1->seaborn) (2.8.2)\n",
            "Requirement already satisfied: pytz>=2020.1 in /usr/local/lib/python3.9/dist-packages (from pandas>=0.25->seaborn) (2022.7.1)\n",
            "Requirement already satisfied: zipp>=3.1.0 in /usr/local/lib/python3.9/dist-packages (from importlib-resources>=3.2.0->matplotlib!=3.6.1,>=3.1->seaborn) (3.15.0)\n",
            "Requirement already satisfied: six>=1.5 in /usr/local/lib/python3.9/dist-packages (from python-dateutil>=2.7->matplotlib!=3.6.1,>=3.1->seaborn) (1.15.0)\n"
          ]
        }
      ]
    },
    {
      "cell_type": "code",
      "source": [
        "pip install biopython"
      ],
      "metadata": {
        "id": "b04c-4khFBI2",
        "outputId": "495fd189-dc7f-438c-cbac-bd108f7ef5ad",
        "colab": {
          "base_uri": "https://localhost:8080/"
        }
      },
      "id": "b04c-4khFBI2",
      "execution_count": 8,
      "outputs": [
        {
          "output_type": "stream",
          "name": "stdout",
          "text": [
            "Looking in indexes: https://pypi.org/simple, https://us-python.pkg.dev/colab-wheels/public/simple/\n",
            "Requirement already satisfied: biopython in /usr/local/lib/python3.9/dist-packages (1.81)\n",
            "Requirement already satisfied: numpy in /usr/local/lib/python3.9/dist-packages (from biopython) (1.22.4)\n"
          ]
        }
      ]
    },
    {
      "cell_type": "markdown",
      "source": [
        "# Importação dos Pacotes Necessários"
      ],
      "metadata": {
        "id": "7lSb2pJ2NrqI"
      },
      "id": "7lSb2pJ2NrqI"
    },
    {
      "cell_type": "code",
      "execution_count": 9,
      "id": "c0d2bae9-1bd0-41c3-9ff0-1e2426508199",
      "metadata": {
        "id": "c0d2bae9-1bd0-41c3-9ff0-1e2426508199"
      },
      "outputs": [],
      "source": [
        "import credentials\n",
        "import matplotlib.pyplot as plt\n",
        "import numpy  as np\n",
        "import pandas as pd\n",
        "import pyrodigal\n",
        "import requests\n",
        "import seaborn as sns\n",
        "import subprocess\n",
        "import sys\n",
        "from Bio import SeqIO\n",
        "from Bio import Entrez\n",
        "from io                 import StringIO\n",
        "from matplotlib.patches import Patch\n",
        "from pycirclize         import Circos\n",
        "from pycirclize.parser  import Gff\n",
        "from requests.adapters  import HTTPAdapter, Retry"
      ]
    },
    {
      "cell_type": "markdown",
      "id": "0b76cf6c-b3a7-4678-9d52-181522d13244",
      "metadata": {
        "tags": [],
        "id": "0b76cf6c-b3a7-4678-9d52-181522d13244"
      },
      "source": [
        "# **1. Obtendo uma sequência genômica**"
      ]
    },
    {
      "cell_type": "code",
      "execution_count": 11,
      "id": "8784808a-4118-4f50-ad24-30f222acd1cd",
      "metadata": {
        "id": "8784808a-4118-4f50-ad24-30f222acd1cd"
      },
      "outputs": [],
      "source": [
        "accession = \"CP097560.1\"\n",
        "genome = Entrez.efetch(db=\"nucleotide\",\n",
        "                       id=accession,\n",
        "                       format=\"gb\",\n",
        "                       rettype=\"text\")\n",
        "record = SeqIO.read(genome, \"genbank\")\n",
        "genome_length = len(record.seq)"
      ]
    },
    {
      "cell_type": "markdown",
      "id": "e2a6515b-c8c2-4752-99de-694d3938849b",
      "metadata": {
        "tags": [],
        "id": "e2a6515b-c8c2-4752-99de-694d3938849b"
      },
      "source": [
        "# **2. Predição de genes usando pyrodigal**"
      ]
    },
    {
      "cell_type": "markdown",
      "id": "2912192f-1e57-4c26-9710-22ea34a9be62",
      "metadata": {
        "id": "2912192f-1e57-4c26-9710-22ea34a9be62"
      },
      "source": [
        " Encontrando os genes codificadores de proteínas em nosso genoma procariótico"
      ]
    },
    {
      "cell_type": "code",
      "execution_count": 12,
      "id": "82b7e147-4171-4b25-b987-f637c75c3536",
      "metadata": {
        "id": "82b7e147-4171-4b25-b987-f637c75c3536"
      },
      "outputs": [],
      "source": [
        "orf_finder = pyrodigal.OrfFinder()\n",
        "orf_finder.train(bytes(record.seq))\n",
        "orf_genes  = orf_finder.find_genes(bytes(record.seq))"
      ]
    },
    {
      "cell_type": "markdown",
      "source": [
        "\n",
        "Pseudomonas aeruginosa\n",
        "Pseudomonas aeruginosa C4.2  \n",
        "\n",
        "Prefixo = Abbreviation: Pa, Pseudomonas aeruginosa."
      ],
      "metadata": {
        "id": "J1tDVBvztN5E"
      },
      "id": "J1tDVBvztN5E"
    },
    {
      "cell_type": "code",
      "execution_count": 13,
      "id": "d24ef49e-fbcb-4f84-a905-4c0717b39007",
      "metadata": {
        "id": "d24ef49e-fbcb-4f84-a905-4c0717b39007"
      },
      "outputs": [],
      "source": [
        "aa_file = accession + \".faa\"\n",
        "prefix  = \"PaC4\"\n",
        "with open(aa_file, \"w\") as orf_gene:\n",
        "    orf_genes.write_translations(orf_gene,sequence_id=prefix)"
      ]
    },
    {
      "cell_type": "code",
      "source": [
        "aa_file\n"
      ],
      "metadata": {
        "id": "M6bdS25HKq2f",
        "outputId": "e316f3e5-8cab-482a-d729-4cacb05c088a",
        "colab": {
          "base_uri": "https://localhost:8080/",
          "height": 35
        }
      },
      "id": "M6bdS25HKq2f",
      "execution_count": 14,
      "outputs": [
        {
          "output_type": "execute_result",
          "data": {
            "text/plain": [
              "'CP097560.1.faa'"
            ],
            "application/vnd.google.colaboratory.intrinsic+json": {
              "type": "string"
            }
          },
          "metadata": {},
          "execution_count": 14
        }
      ]
    },
    {
      "cell_type": "code",
      "source": [
        "! head CP097560.1.faa"
      ],
      "metadata": {
        "id": "TbARKZl7KWsj",
        "outputId": "7f3fa3a7-5f0e-43f2-f475-395021736869",
        "colab": {
          "base_uri": "https://localhost:8080/"
        }
      },
      "id": "TbARKZl7KWsj",
      "execution_count": 16,
      "outputs": [
        {
          "output_type": "stream",
          "name": "stdout",
          "text": [
            ">PaC4_1 # 1 # 1578 # 1 # ID=1_1;partial=10;start_type=Edge;rbs_motif=None;rbs_spacer=None;gc_cont=0.624\n",
            "LCRLSNLWGISVSVELWQQCVDLLRDELPSQQFNTWIRPLQVEAEGDELRVYAPNRFVLD\n",
            "WVNEKYLGRLLELLGERGEGQLPALSLLIGSKRSRTPRAAIVPSQTHVAPPPPVAPPPAP\n",
            "VQPVSAAPVVVPREELPPVTTAPSVSSDPYEPEEPSIDPLAAAMPAGAAPAVRTERNVQV\n",
            "EGALKHTSYLNRTFTFENFVEGKSNQLARAAAWQVADNLKHGYNPLFLYGGVGLGKTHLM\n",
            "HAVGNHLLKKNPNAKVVYLHSERFVADMVKALQLNAINEFKRFYRSVDALLIDDIQFFAR\n",
            "KERSQEEFFHTFNALLEGGQQVILTSDRYPKEIEGLEERLKSRFGWGLTVAVEPPELETR\n",
            "VAILMKKAEQAKIELPHDAAFFIAQRIRSNVRELEGALKRVIAHSHFMGRPITIELIRES\n",
            "LKDLLALQDKLVSIDNIQRTVAEYYKIKISDLLSKRRSRSVARPRQVAMALSKELTNHSL\n",
            "PEIGVAFGGRDHTTVLHACRKIAQLRESDADIREDYKNLLRTLTT*\n"
          ]
        }
      ]
    },
    {
      "cell_type": "code",
      "execution_count": 17,
      "id": "35c3462d-cf54-486c-ab1c-2b39c91998d8",
      "metadata": {
        "id": "35c3462d-cf54-486c-ab1c-2b39c91998d8"
      },
      "outputs": [],
      "source": [
        "gff_file = accession + \".gff\"\n",
        "prefix  = \"PaC4\"\n",
        "with open(gff_file, \"w\") as orf_gene:\n",
        "    orf_genes.write_gff(orf_gene,sequence_id=prefix)"
      ]
    },
    {
      "cell_type": "markdown",
      "id": "405e7a3b-3cc6-45ac-bacf-c2eb791a1b34",
      "metadata": {
        "tags": [],
        "id": "405e7a3b-3cc6-45ac-bacf-c2eb791a1b34"
      },
      "source": [
        "# **3. Obtendo um conjunto de sequências de referência**"
      ]
    },
    {
      "cell_type": "code",
      "execution_count": 18,
      "id": "652e8d54-bf13-4109-aafb-4e922055b023",
      "metadata": {
        "id": "652e8d54-bf13-4109-aafb-4e922055b023"
      },
      "outputs": [],
      "source": [
        "uniprot_api_url  = \"https://rest.uniprot.org/uniprotkb/stream\"\n",
        "uniprot_api_args = {\"compressed\" : \"false\",\n",
        "                    \"format\"     : \"fasta\",\n",
        "                    \"query\"      : \"(insecticides biosynthesis) AND (reviewed:true)\"}\n",
        "uniprot_ref_seqs = requests.get(uniprot_api_url,params=uniprot_api_args).text"
      ]
    },
    {
      "cell_type": "code",
      "execution_count": 19,
      "id": "a73bda40-1142-4193-88c0-fa509130ddaa",
      "metadata": {
        "id": "a73bda40-1142-4193-88c0-fa509130ddaa"
      },
      "outputs": [],
      "source": [
        "uniprot_seqs_file = open(\"uniprot_sequences.fasta\", \"wt\")\n",
        "uniprot_seqs_file.write(uniprot_ref_seqs)\n",
        "uniprot_seqs_file.close()"
      ]
    },
    {
      "cell_type": "code",
      "source": [
        "! head uniprot_sequences.fasta"
      ],
      "metadata": {
        "id": "BDp5xX_WHboO",
        "outputId": "afc71178-0101-4aec-d77b-fcabac8ac7e8",
        "colab": {
          "base_uri": "https://localhost:8080/"
        }
      },
      "id": "BDp5xX_WHboO",
      "execution_count": 20,
      "outputs": [
        {
          "output_type": "stream",
          "name": "stdout",
          "text": [
            ">sp|A0A0M3Q1Q3|GTPS1_THYVU Gamma-terpinene synthase 1 OS=Thymus vulgaris OX=49992 GN=TPS1 PE=1 SV=1\n",
            "MRRSGNYQAPVWNNDFIQSFSTDKYKDEKFLKKKEELIAQVKVLLNTKMEAVKQLELIED\n",
            "LRNLGLTYYFEDEFKKILTSIYNEHKGFKNEQVGDLYFTSLAFRLLRLHGFDVSEDVFNF\n",
            "FKNEDGSDFKASLGENTKDVLELYEASFLIRVGEVTLEQARVFSTKILEKKVEEGIKDEK\n",
            "LLAWIQHSLALPLHWRIQRLEARWFLDAYKARKDMNPIIYELGKIDFHIIQETQLQEVQE\n",
            "VSQWWTNTNLAEKLPFVRDRIVECYFWALGLFEPHEYGYQRKMAAIIITFVTIIDDVYDV\n",
            "YDTLDELQLFTDAIRKWDVESISTLPYYMQVCYLAVFTYASELAYDILKDQGFNSISYLQ\n",
            "RSWLSLVEGFFQEAKWYYAGYTPTLAEYLENAKVSISSPTIISQVYFTLPNSTERTVVEN\n",
            "VFGYHNILYLSGMILRLADDLGTTQFELKRGDVQKAIQCYMNDNNATEEEGTEHVKYLLR\n",
            "EAWQEMNSAMADPDCPLSEDLVFAAANLGRTSQFIYLDGDGHGVQHSEIHNQMGGLIFEP\n"
          ]
        }
      ]
    },
    {
      "cell_type": "markdown",
      "id": "6b110d37-ebb1-4dad-9f76-b9a390427f18",
      "metadata": {
        "tags": [],
        "id": "6b110d37-ebb1-4dad-9f76-b9a390427f18"
      },
      "source": [
        "# **4. Construção de um banco de dados do tipo BLAST**"
      ]
    },
    {
      "cell_type": "code",
      "source": [
        "!apt-get install ncbi-blast+"
      ],
      "metadata": {
        "id": "Poyp2nANGJDX",
        "outputId": "ac5efb0f-03b1-4879-fd38-82ba65790119",
        "colab": {
          "base_uri": "https://localhost:8080/"
        }
      },
      "id": "Poyp2nANGJDX",
      "execution_count": 21,
      "outputs": [
        {
          "output_type": "stream",
          "name": "stdout",
          "text": [
            "Reading package lists... Done\n",
            "Building dependency tree       \n",
            "Reading state information... Done\n",
            "The following additional packages will be installed:\n",
            "  ncbi-data\n",
            "The following NEW packages will be installed:\n",
            "  ncbi-blast+ ncbi-data\n",
            "0 upgraded, 2 newly installed, 0 to remove and 23 not upgraded.\n",
            "Need to get 14.6 MB of archives.\n",
            "After this operation, 74.2 MB of additional disk space will be used.\n",
            "Get:1 http://archive.ubuntu.com/ubuntu focal/universe amd64 ncbi-data all 6.1.20170106+dfsg1-8 [3,518 kB]\n",
            "Get:2 http://archive.ubuntu.com/ubuntu focal/universe amd64 ncbi-blast+ amd64 2.9.0-2 [11.1 MB]\n",
            "Fetched 14.6 MB in 1s (28.4 MB/s)\n",
            "Selecting previously unselected package ncbi-data.\n",
            "(Reading database ... 128276 files and directories currently installed.)\n",
            "Preparing to unpack .../ncbi-data_6.1.20170106+dfsg1-8_all.deb ...\n",
            "Unpacking ncbi-data (6.1.20170106+dfsg1-8) ...\n",
            "Selecting previously unselected package ncbi-blast+.\n",
            "Preparing to unpack .../ncbi-blast+_2.9.0-2_amd64.deb ...\n",
            "Unpacking ncbi-blast+ (2.9.0-2) ...\n",
            "Setting up ncbi-data (6.1.20170106+dfsg1-8) ...\n",
            "Setting up ncbi-blast+ (2.9.0-2) ...\n",
            "Processing triggers for man-db (2.9.1-1) ...\n",
            "Processing triggers for hicolor-icon-theme (0.17-2) ...\n"
          ]
        }
      ]
    },
    {
      "cell_type": "code",
      "source": [
        "!which makeblastdb"
      ],
      "metadata": {
        "id": "ZLd4jh8DGQuk",
        "outputId": "daa53108-c209-42a7-8e32-3bd648ebbd6f",
        "colab": {
          "base_uri": "https://localhost:8080/"
        }
      },
      "id": "ZLd4jh8DGQuk",
      "execution_count": 25,
      "outputs": [
        {
          "output_type": "stream",
          "name": "stdout",
          "text": [
            "/usr/bin/makeblastdb\n"
          ]
        }
      ]
    },
    {
      "cell_type": "code",
      "execution_count": 26,
      "id": "861f2a45-0cb5-4e7b-bffe-22c1afe9dc8e",
      "metadata": {
        "id": "861f2a45-0cb5-4e7b-bffe-22c1afe9dc8e"
      },
      "outputs": [],
      "source": [
        "makeblastdb_path = \"/usr/bin/makeblastdb\""
      ]
    },
    {
      "cell_type": "code",
      "source": [
        "makeblastdb_command = [makeblastdb_path,'-in',aa_file,'-dbtype','prot']"
      ],
      "metadata": {
        "id": "cI_oQ5efuf2a"
      },
      "id": "cI_oQ5efuf2a",
      "execution_count": 28,
      "outputs": []
    },
    {
      "cell_type": "code",
      "source": [
        "import subprocess\n",
        "\n",
        "result = subprocess.run(makeblastdb_command, capture_output=True, text=True)\n",
        "print(result.stdout)"
      ],
      "metadata": {
        "id": "Xi1tmLKgLCGV",
        "outputId": "821866aa-adc7-4659-c1cd-e71052970ea9",
        "colab": {
          "base_uri": "https://localhost:8080/"
        }
      },
      "id": "Xi1tmLKgLCGV",
      "execution_count": 29,
      "outputs": [
        {
          "output_type": "stream",
          "name": "stdout",
          "text": [
            "\n",
            "\n",
            "Building a new DB, current time: 03/17/2023 18:00:39\n",
            "New DB name:   /content/CP097560.1.faa\n",
            "New DB title:  CP097560.1.faa\n",
            "Sequence type: Protein\n",
            "Keep MBits: T\n",
            "Maximum file size: 1000000000B\n",
            "Adding sequences from FASTA; added 6860 sequences in 0.204443 seconds.\n",
            "\n"
          ]
        }
      ]
    },
    {
      "cell_type": "markdown",
      "source": [
        "Resultado: 6860 proteínas do genoma"
      ],
      "metadata": {
        "id": "7RyJ0QpZvOSk"
      },
      "id": "7RyJ0QpZvOSk"
    },
    {
      "cell_type": "code",
      "source": [
        "subprocess.call(makeblastdb_command)"
      ],
      "metadata": {
        "id": "QAPkYXW9Hp4U",
        "outputId": "5cfbd5ad-f1c6-40da-f239-34f171931bdc",
        "colab": {
          "base_uri": "https://localhost:8080/"
        }
      },
      "id": "QAPkYXW9Hp4U",
      "execution_count": 30,
      "outputs": [
        {
          "output_type": "execute_result",
          "data": {
            "text/plain": [
              "0"
            ]
          },
          "metadata": {},
          "execution_count": 30
        }
      ]
    },
    {
      "cell_type": "markdown",
      "id": "5072892a-2e49-4e07-9842-9f210d636779",
      "metadata": {
        "tags": [],
        "id": "5072892a-2e49-4e07-9842-9f210d636779"
      },
      "source": [
        "# **5. Obtenção de sequências de interesse no genoma analisado**"
      ]
    },
    {
      "cell_type": "code",
      "execution_count": 31,
      "id": "65c5dbdc-27c0-4676-9653-06d145493193",
      "metadata": {
        "id": "65c5dbdc-27c0-4676-9653-06d145493193",
        "colab": {
          "base_uri": "https://localhost:8080/"
        },
        "outputId": "42acabca-90fc-44bf-9839-bee67cedc444"
      },
      "outputs": [
        {
          "output_type": "execute_result",
          "data": {
            "text/plain": [
              "0"
            ]
          },
          "metadata": {},
          "execution_count": 31
        }
      ],
      "source": [
        "blastp_path       = \"/usr/bin/blastp\"\n",
        "blastp_out_format = \"6 qseqid sseqid qlen slen qstart sstart qend send score evalue length positive\"\n",
        "blastp_out_file   = accession + \".blast.tsv\"\n",
        "blastp_command    = [blastp_path,\n",
        "                     \"-db\",          aa_file,\n",
        "                     \"-query\",       \"uniprot_sequences.fasta\",\n",
        "                     \"-evalue\",      \"1e-9\",\n",
        "                     \"-out\",         blastp_out_file,\n",
        "                     \"-outfmt\",      blastp_out_format,\n",
        "                     \"-num_threads\", \"12\"]\n",
        "subprocess.call(blastp_command)"
      ]
    },
    {
      "cell_type": "code",
      "source": [
        "print(subprocess.run(blastp_command, capture_output=True, text=True))\n"
      ],
      "metadata": {
        "colab": {
          "base_uri": "https://localhost:8080/"
        },
        "id": "kybY5xhj3kt0",
        "outputId": "da464ea5-2ba1-49eb-c5cd-86884168132c"
      },
      "id": "kybY5xhj3kt0",
      "execution_count": 45,
      "outputs": [
        {
          "output_type": "stream",
          "name": "stdout",
          "text": [
            "CompletedProcess(args=['/usr/bin/blastp', '-db', 'uniprot_sequences.fasta', '-query', 'CP097560.1.faa', '-evalue', '1e-9', '-out', 'uniprot_sequences.blast.tsv', '-outfmt', '6 qseqid sseqid qlen slen qstart sstart qend send score evalue length positive', '-num_threads', '12'], returncode=0, stdout='', stderr='Warning: [blastp] Number of threads was reduced to 2 to match the number of available CPUs\\n')\n"
          ]
        }
      ]
    },
    {
      "cell_type": "code",
      "source": [
        "makeblastdb_path = \"/usr/bin/makeblastdb\"\n",
        "makeblastdb_command = [makeblastdb_path, '-in', 'uniprot_sequences.fasta', '-dbtype', 'prot']\n",
        "subprocess.call(makeblastdb_command)\n",
        "blastp_path = \"/usr/bin/blastp\"\n",
        "blast_out_file = \"uniprot_sequences.blast.tsv\"\n",
        "out_format = \"6 qseqid sseqid qlen slen qstart sstart qend send score evalue length positive\"\n",
        "num_threads = \"12\"\n",
        "blastp_command = [blastp_path,\n",
        "                  \"-db\", \"uniprot_sequences.fasta\",\n",
        "                  \"-query\", aa_file,\n",
        "                  \"-evalue\", \"1e-9\",\n",
        "                  \"-out\", blast_out_file,\n",
        "                  \"-outfmt\", out_format,\n",
        "                  \"-num_threads\", num_threads]\n",
        "subprocess.call(blastp_command)"
      ],
      "metadata": {
        "id": "Gq0yXl85LsIX",
        "outputId": "78f76d6a-02d6-4ca1-abc9-781ec3e332ec",
        "colab": {
          "base_uri": "https://localhost:8080/"
        }
      },
      "id": "Gq0yXl85LsIX",
      "execution_count": 32,
      "outputs": [
        {
          "output_type": "execute_result",
          "data": {
            "text/plain": [
              "0"
            ]
          },
          "metadata": {},
          "execution_count": 32
        }
      ]
    },
    {
      "cell_type": "markdown",
      "id": "656c27c4-d48a-49b3-a3b2-e8ed75bca46d",
      "metadata": {
        "tags": [],
        "id": "656c27c4-d48a-49b3-a3b2-e8ed75bca46d"
      },
      "source": [
        "# **6. Examinando resultados de busca de homólogos ao BLAST**"
      ]
    },
    {
      "cell_type": "code",
      "execution_count": 33,
      "id": "d914f1d9-104b-44da-89a0-8cdb7a9f4caf",
      "metadata": {
        "id": "d914f1d9-104b-44da-89a0-8cdb7a9f4caf"
      },
      "outputs": [],
      "source": [
        "blastp_column_names = blastp_out_format.split(\" \")[1:]\n",
        "blastp_df = pd.read_csv(blastp_out_file,sep=\"\\t\",names=blastp_column_names)"
      ]
    },
    {
      "cell_type": "code",
      "source": [
        "blastp_df"
      ],
      "metadata": {
        "colab": {
          "base_uri": "https://localhost:8080/",
          "height": 423
        },
        "id": "bBBwHWn3wOQ0",
        "outputId": "b853db4b-380e-4fee-97eb-d84d541067cd"
      },
      "id": "bBBwHWn3wOQ0",
      "execution_count": 34,
      "outputs": [
        {
          "output_type": "execute_result",
          "data": {
            "text/plain": [
              "                       qseqid     sseqid  qlen  slen  qstart  sstart  qend  \\\n",
              "0   sp|A0A2I7G3B0|ALDH1_TANCI  PaC4_6577   499   498       1       1   487   \n",
              "1   sp|A0A2I7G3B0|ALDH1_TANCI  PaC4_3340   499   497       8       7   489   \n",
              "2   sp|A0A2I7G3B0|ALDH1_TANCI  PaC4_6638   499   491      20       8   489   \n",
              "3   sp|A0A2I7G3B0|ALDH1_TANCI   PaC4_220   499   497      22      21   488   \n",
              "4   sp|A0A2I7G3B0|ALDH1_TANCI   PaC4_972   499   496      21      19   490   \n",
              "..                        ...        ...   ...   ...     ...     ...   ...   \n",
              "59      sp|Q9VA27|CP4C3_DROME  PaC4_1396   535   426     331     229   524   \n",
              "60      sp|Q9VS79|CP4D8_DROME  PaC4_1396   463   426     250     225   433   \n",
              "61      sp|Q9VVN6|CP312_DROME  PaC4_1396   510   426     300     224   476   \n",
              "62      sp|Q9VXY0|CP4S3_DROME  PaC4_1396   495   426     295     228   468   \n",
              "63      sp|Q9W011|C4D20_DROME  PaC4_1396   510   426     297     221   494   \n",
              "\n",
              "    send  score         evalue  length  positive  \n",
              "0    491   1024  1.520000e-135     491       303  \n",
              "1    492   1006  7.920000e-133     488       306  \n",
              "2    479    982  2.780000e-129     475       287  \n",
              "3    490    958  1.230000e-125     470       297  \n",
              "4    492    891  1.500000e-115     476       289  \n",
              "..   ...    ...            ...     ...       ...  \n",
              "59   415    211   1.220000e-18     198        95  \n",
              "60   399    185   1.680000e-15     185        89  \n",
              "61   396    166   4.860000e-13     184        84  \n",
              "62   407    195   1.030000e-16     182        88  \n",
              "63   413    220   7.210000e-20     199        98  \n",
              "\n",
              "[64 rows x 12 columns]"
            ],
            "text/html": [
              "\n",
              "  <div id=\"df-0970385c-6d0e-4b16-9783-e3b4c20341d1\">\n",
              "    <div class=\"colab-df-container\">\n",
              "      <div>\n",
              "<style scoped>\n",
              "    .dataframe tbody tr th:only-of-type {\n",
              "        vertical-align: middle;\n",
              "    }\n",
              "\n",
              "    .dataframe tbody tr th {\n",
              "        vertical-align: top;\n",
              "    }\n",
              "\n",
              "    .dataframe thead th {\n",
              "        text-align: right;\n",
              "    }\n",
              "</style>\n",
              "<table border=\"1\" class=\"dataframe\">\n",
              "  <thead>\n",
              "    <tr style=\"text-align: right;\">\n",
              "      <th></th>\n",
              "      <th>qseqid</th>\n",
              "      <th>sseqid</th>\n",
              "      <th>qlen</th>\n",
              "      <th>slen</th>\n",
              "      <th>qstart</th>\n",
              "      <th>sstart</th>\n",
              "      <th>qend</th>\n",
              "      <th>send</th>\n",
              "      <th>score</th>\n",
              "      <th>evalue</th>\n",
              "      <th>length</th>\n",
              "      <th>positive</th>\n",
              "    </tr>\n",
              "  </thead>\n",
              "  <tbody>\n",
              "    <tr>\n",
              "      <th>0</th>\n",
              "      <td>sp|A0A2I7G3B0|ALDH1_TANCI</td>\n",
              "      <td>PaC4_6577</td>\n",
              "      <td>499</td>\n",
              "      <td>498</td>\n",
              "      <td>1</td>\n",
              "      <td>1</td>\n",
              "      <td>487</td>\n",
              "      <td>491</td>\n",
              "      <td>1024</td>\n",
              "      <td>1.520000e-135</td>\n",
              "      <td>491</td>\n",
              "      <td>303</td>\n",
              "    </tr>\n",
              "    <tr>\n",
              "      <th>1</th>\n",
              "      <td>sp|A0A2I7G3B0|ALDH1_TANCI</td>\n",
              "      <td>PaC4_3340</td>\n",
              "      <td>499</td>\n",
              "      <td>497</td>\n",
              "      <td>8</td>\n",
              "      <td>7</td>\n",
              "      <td>489</td>\n",
              "      <td>492</td>\n",
              "      <td>1006</td>\n",
              "      <td>7.920000e-133</td>\n",
              "      <td>488</td>\n",
              "      <td>306</td>\n",
              "    </tr>\n",
              "    <tr>\n",
              "      <th>2</th>\n",
              "      <td>sp|A0A2I7G3B0|ALDH1_TANCI</td>\n",
              "      <td>PaC4_6638</td>\n",
              "      <td>499</td>\n",
              "      <td>491</td>\n",
              "      <td>20</td>\n",
              "      <td>8</td>\n",
              "      <td>489</td>\n",
              "      <td>479</td>\n",
              "      <td>982</td>\n",
              "      <td>2.780000e-129</td>\n",
              "      <td>475</td>\n",
              "      <td>287</td>\n",
              "    </tr>\n",
              "    <tr>\n",
              "      <th>3</th>\n",
              "      <td>sp|A0A2I7G3B0|ALDH1_TANCI</td>\n",
              "      <td>PaC4_220</td>\n",
              "      <td>499</td>\n",
              "      <td>497</td>\n",
              "      <td>22</td>\n",
              "      <td>21</td>\n",
              "      <td>488</td>\n",
              "      <td>490</td>\n",
              "      <td>958</td>\n",
              "      <td>1.230000e-125</td>\n",
              "      <td>470</td>\n",
              "      <td>297</td>\n",
              "    </tr>\n",
              "    <tr>\n",
              "      <th>4</th>\n",
              "      <td>sp|A0A2I7G3B0|ALDH1_TANCI</td>\n",
              "      <td>PaC4_972</td>\n",
              "      <td>499</td>\n",
              "      <td>496</td>\n",
              "      <td>21</td>\n",
              "      <td>19</td>\n",
              "      <td>490</td>\n",
              "      <td>492</td>\n",
              "      <td>891</td>\n",
              "      <td>1.500000e-115</td>\n",
              "      <td>476</td>\n",
              "      <td>289</td>\n",
              "    </tr>\n",
              "    <tr>\n",
              "      <th>...</th>\n",
              "      <td>...</td>\n",
              "      <td>...</td>\n",
              "      <td>...</td>\n",
              "      <td>...</td>\n",
              "      <td>...</td>\n",
              "      <td>...</td>\n",
              "      <td>...</td>\n",
              "      <td>...</td>\n",
              "      <td>...</td>\n",
              "      <td>...</td>\n",
              "      <td>...</td>\n",
              "      <td>...</td>\n",
              "    </tr>\n",
              "    <tr>\n",
              "      <th>59</th>\n",
              "      <td>sp|Q9VA27|CP4C3_DROME</td>\n",
              "      <td>PaC4_1396</td>\n",
              "      <td>535</td>\n",
              "      <td>426</td>\n",
              "      <td>331</td>\n",
              "      <td>229</td>\n",
              "      <td>524</td>\n",
              "      <td>415</td>\n",
              "      <td>211</td>\n",
              "      <td>1.220000e-18</td>\n",
              "      <td>198</td>\n",
              "      <td>95</td>\n",
              "    </tr>\n",
              "    <tr>\n",
              "      <th>60</th>\n",
              "      <td>sp|Q9VS79|CP4D8_DROME</td>\n",
              "      <td>PaC4_1396</td>\n",
              "      <td>463</td>\n",
              "      <td>426</td>\n",
              "      <td>250</td>\n",
              "      <td>225</td>\n",
              "      <td>433</td>\n",
              "      <td>399</td>\n",
              "      <td>185</td>\n",
              "      <td>1.680000e-15</td>\n",
              "      <td>185</td>\n",
              "      <td>89</td>\n",
              "    </tr>\n",
              "    <tr>\n",
              "      <th>61</th>\n",
              "      <td>sp|Q9VVN6|CP312_DROME</td>\n",
              "      <td>PaC4_1396</td>\n",
              "      <td>510</td>\n",
              "      <td>426</td>\n",
              "      <td>300</td>\n",
              "      <td>224</td>\n",
              "      <td>476</td>\n",
              "      <td>396</td>\n",
              "      <td>166</td>\n",
              "      <td>4.860000e-13</td>\n",
              "      <td>184</td>\n",
              "      <td>84</td>\n",
              "    </tr>\n",
              "    <tr>\n",
              "      <th>62</th>\n",
              "      <td>sp|Q9VXY0|CP4S3_DROME</td>\n",
              "      <td>PaC4_1396</td>\n",
              "      <td>495</td>\n",
              "      <td>426</td>\n",
              "      <td>295</td>\n",
              "      <td>228</td>\n",
              "      <td>468</td>\n",
              "      <td>407</td>\n",
              "      <td>195</td>\n",
              "      <td>1.030000e-16</td>\n",
              "      <td>182</td>\n",
              "      <td>88</td>\n",
              "    </tr>\n",
              "    <tr>\n",
              "      <th>63</th>\n",
              "      <td>sp|Q9W011|C4D20_DROME</td>\n",
              "      <td>PaC4_1396</td>\n",
              "      <td>510</td>\n",
              "      <td>426</td>\n",
              "      <td>297</td>\n",
              "      <td>221</td>\n",
              "      <td>494</td>\n",
              "      <td>413</td>\n",
              "      <td>220</td>\n",
              "      <td>7.210000e-20</td>\n",
              "      <td>199</td>\n",
              "      <td>98</td>\n",
              "    </tr>\n",
              "  </tbody>\n",
              "</table>\n",
              "<p>64 rows × 12 columns</p>\n",
              "</div>\n",
              "      <button class=\"colab-df-convert\" onclick=\"convertToInteractive('df-0970385c-6d0e-4b16-9783-e3b4c20341d1')\"\n",
              "              title=\"Convert this dataframe to an interactive table.\"\n",
              "              style=\"display:none;\">\n",
              "        \n",
              "  <svg xmlns=\"http://www.w3.org/2000/svg\" height=\"24px\"viewBox=\"0 0 24 24\"\n",
              "       width=\"24px\">\n",
              "    <path d=\"M0 0h24v24H0V0z\" fill=\"none\"/>\n",
              "    <path d=\"M18.56 5.44l.94 2.06.94-2.06 2.06-.94-2.06-.94-.94-2.06-.94 2.06-2.06.94zm-11 1L8.5 8.5l.94-2.06 2.06-.94-2.06-.94L8.5 2.5l-.94 2.06-2.06.94zm10 10l.94 2.06.94-2.06 2.06-.94-2.06-.94-.94-2.06-.94 2.06-2.06.94z\"/><path d=\"M17.41 7.96l-1.37-1.37c-.4-.4-.92-.59-1.43-.59-.52 0-1.04.2-1.43.59L10.3 9.45l-7.72 7.72c-.78.78-.78 2.05 0 2.83L4 21.41c.39.39.9.59 1.41.59.51 0 1.02-.2 1.41-.59l7.78-7.78 2.81-2.81c.8-.78.8-2.07 0-2.86zM5.41 20L4 18.59l7.72-7.72 1.47 1.35L5.41 20z\"/>\n",
              "  </svg>\n",
              "      </button>\n",
              "      \n",
              "  <style>\n",
              "    .colab-df-container {\n",
              "      display:flex;\n",
              "      flex-wrap:wrap;\n",
              "      gap: 12px;\n",
              "    }\n",
              "\n",
              "    .colab-df-convert {\n",
              "      background-color: #E8F0FE;\n",
              "      border: none;\n",
              "      border-radius: 50%;\n",
              "      cursor: pointer;\n",
              "      display: none;\n",
              "      fill: #1967D2;\n",
              "      height: 32px;\n",
              "      padding: 0 0 0 0;\n",
              "      width: 32px;\n",
              "    }\n",
              "\n",
              "    .colab-df-convert:hover {\n",
              "      background-color: #E2EBFA;\n",
              "      box-shadow: 0px 1px 2px rgba(60, 64, 67, 0.3), 0px 1px 3px 1px rgba(60, 64, 67, 0.15);\n",
              "      fill: #174EA6;\n",
              "    }\n",
              "\n",
              "    [theme=dark] .colab-df-convert {\n",
              "      background-color: #3B4455;\n",
              "      fill: #D2E3FC;\n",
              "    }\n",
              "\n",
              "    [theme=dark] .colab-df-convert:hover {\n",
              "      background-color: #434B5C;\n",
              "      box-shadow: 0px 1px 3px 1px rgba(0, 0, 0, 0.15);\n",
              "      filter: drop-shadow(0px 1px 2px rgba(0, 0, 0, 0.3));\n",
              "      fill: #FFFFFF;\n",
              "    }\n",
              "  </style>\n",
              "\n",
              "      <script>\n",
              "        const buttonEl =\n",
              "          document.querySelector('#df-0970385c-6d0e-4b16-9783-e3b4c20341d1 button.colab-df-convert');\n",
              "        buttonEl.style.display =\n",
              "          google.colab.kernel.accessAllowed ? 'block' : 'none';\n",
              "\n",
              "        async function convertToInteractive(key) {\n",
              "          const element = document.querySelector('#df-0970385c-6d0e-4b16-9783-e3b4c20341d1');\n",
              "          const dataTable =\n",
              "            await google.colab.kernel.invokeFunction('convertToInteractive',\n",
              "                                                     [key], {});\n",
              "          if (!dataTable) return;\n",
              "\n",
              "          const docLinkHtml = 'Like what you see? Visit the ' +\n",
              "            '<a target=\"_blank\" href=https://colab.research.google.com/notebooks/data_table.ipynb>data table notebook</a>'\n",
              "            + ' to learn more about interactive tables.';\n",
              "          element.innerHTML = '';\n",
              "          dataTable['output_type'] = 'display_data';\n",
              "          await google.colab.output.renderOutput(dataTable, element);\n",
              "          const docLink = document.createElement('div');\n",
              "          docLink.innerHTML = docLinkHtml;\n",
              "          element.appendChild(docLink);\n",
              "        }\n",
              "      </script>\n",
              "    </div>\n",
              "  </div>\n",
              "  "
            ]
          },
          "metadata": {},
          "execution_count": 34
        }
      ]
    },
    {
      "cell_type": "code",
      "execution_count": 35,
      "id": "7cbb2ee7-59c6-45fb-bf20-3fc81e8e04f2",
      "metadata": {
        "id": "7cbb2ee7-59c6-45fb-bf20-3fc81e8e04f2",
        "colab": {
          "base_uri": "https://localhost:8080/"
        },
        "outputId": "dd020c33-3546-436e-9c45-0e62e283c1b5"
      },
      "outputs": [
        {
          "output_type": "execute_result",
          "data": {
            "text/plain": [
              "32"
            ]
          },
          "metadata": {},
          "execution_count": 35
        }
      ],
      "source": [
        "candidate_genes=blastp_df[\"sseqid\"].unique().tolist()\n",
        "len(candidate_genes)"
      ]
    },
    {
      "cell_type": "markdown",
      "id": "404093b4-4b65-4d32-b993-f3fc0fbe5dc1",
      "metadata": {
        "id": "404093b4-4b65-4d32-b993-f3fc0fbe5dc1"
      },
      "source": [
        "## 6.1. Visualização de dados"
      ]
    },
    {
      "cell_type": "markdown",
      "id": "223643f7-6bac-4a5e-9988-d357bb906c32",
      "metadata": {
        "id": "223643f7-6bac-4a5e-9988-d357bb906c32"
      },
      "source": [
        "### 6.1.1 Transformando arquivo gff em um dataframe"
      ]
    },
    {
      "cell_type": "code",
      "execution_count": 36,
      "id": "937e915c-ee5e-4654-ba85-a13c74ca0656",
      "metadata": {
        "id": "937e915c-ee5e-4654-ba85-a13c74ca0656"
      },
      "outputs": [],
      "source": [
        "gff_columns     = [\"chr\",\"source\",\"feature_type\",\"start\",\"end\",\"score\",\"strand\",\"phase\",\"info\"]\n",
        "gff_df          = pd.read_csv(gff_file,sep=\"\\t\",comment=\"#\",header=None,names=gff_columns)\n",
        "gff_df[\"start\"] = gff_df[\"start\"].astype(int)\n",
        "gff_df[\"end\"]   = gff_df[\"end\"].astype(int)"
      ]
    },
    {
      "cell_type": "code",
      "source": [
        "gff_df"
      ],
      "metadata": {
        "colab": {
          "base_uri": "https://localhost:8080/",
          "height": 901
        },
        "id": "SDTK8nUM25Yq",
        "outputId": "666348e3-1c69-4eb1-b469-754213f5c359"
      },
      "id": "SDTK8nUM25Yq",
      "execution_count": 46,
      "outputs": [
        {
          "output_type": "execute_result",
          "data": {
            "text/plain": [
              "       chr            source feature_type    start      end  score strand  \\\n",
              "0     PaC4  pyrodigal_v2.1.0          CDS        1     1578  272.3      +   \n",
              "1     PaC4  pyrodigal_v2.1.0          CDS     1607     2710  250.1      +   \n",
              "2     PaC4  pyrodigal_v2.1.0          CDS     2720     3829  107.5      +   \n",
              "3     PaC4  pyrodigal_v2.1.0          CDS     3826     6246  615.7      +   \n",
              "4     PaC4  pyrodigal_v2.1.0          CDS     6558     7331  178.4      -   \n",
              "...    ...               ...          ...      ...      ...    ...    ...   \n",
              "6855  PaC4  pyrodigal_v2.1.0          CDS  7340457  7340681   29.9      -   \n",
              "6856  PaC4  pyrodigal_v2.1.0          CDS  7341176  7342543  222.8      -   \n",
              "6857  PaC4  pyrodigal_v2.1.0          CDS  7342614  7344350  380.6      -   \n",
              "6858  PaC4  pyrodigal_v2.1.0          CDS  7344591  7344998   32.9      -   \n",
              "6859  PaC4  pyrodigal_v2.1.0          CDS  7345013  7345147    6.4      -   \n",
              "\n",
              "      phase                                               info  \\\n",
              "0         0  ID=PaC4_1;partial=10;start_type=Edge;rbs_motif...   \n",
              "1         0  ID=PaC4_2;partial=00;start_type=ATG;rbs_motif=...   \n",
              "2         0  ID=PaC4_3;partial=00;start_type=ATG;rbs_motif=...   \n",
              "3         0  ID=PaC4_4;partial=00;start_type=ATG;rbs_motif=...   \n",
              "4         0  ID=PaC4_5;partial=00;start_type=ATG;rbs_motif=...   \n",
              "...     ...                                                ...   \n",
              "6855      0  ID=PaC4_6856;partial=00;start_type=ATG;rbs_mot...   \n",
              "6856      0  ID=PaC4_6857;partial=00;start_type=ATG;rbs_mot...   \n",
              "6857      0  ID=PaC4_6858;partial=00;start_type=ATG;rbs_mot...   \n",
              "6858      0  ID=PaC4_6859;partial=00;start_type=GTG;rbs_mot...   \n",
              "6859      0  ID=PaC4_6860;partial=00;start_type=ATG;rbs_mot...   \n",
              "\n",
              "                                             annotation candidate  \n",
              "0     {'ID': 'PaC4_1', 'partial': '10', 'start_type'...   exclude  \n",
              "1     {'ID': 'PaC4_2', 'partial': '00', 'start_type'...   exclude  \n",
              "2     {'ID': 'PaC4_3', 'partial': '00', 'start_type'...   exclude  \n",
              "3     {'ID': 'PaC4_4', 'partial': '00', 'start_type'...   exclude  \n",
              "4     {'ID': 'PaC4_5', 'partial': '00', 'start_type'...   exclude  \n",
              "...                                                 ...       ...  \n",
              "6855  {'ID': 'PaC4_6856', 'partial': '00', 'start_ty...   exclude  \n",
              "6856  {'ID': 'PaC4_6857', 'partial': '00', 'start_ty...   exclude  \n",
              "6857  {'ID': 'PaC4_6858', 'partial': '00', 'start_ty...   exclude  \n",
              "6858  {'ID': 'PaC4_6859', 'partial': '00', 'start_ty...   exclude  \n",
              "6859  {'ID': 'PaC4_6860', 'partial': '00', 'start_ty...   exclude  \n",
              "\n",
              "[6860 rows x 11 columns]"
            ],
            "text/html": [
              "\n",
              "  <div id=\"df-4dc8a53c-733f-4437-8170-d17748861eed\">\n",
              "    <div class=\"colab-df-container\">\n",
              "      <div>\n",
              "<style scoped>\n",
              "    .dataframe tbody tr th:only-of-type {\n",
              "        vertical-align: middle;\n",
              "    }\n",
              "\n",
              "    .dataframe tbody tr th {\n",
              "        vertical-align: top;\n",
              "    }\n",
              "\n",
              "    .dataframe thead th {\n",
              "        text-align: right;\n",
              "    }\n",
              "</style>\n",
              "<table border=\"1\" class=\"dataframe\">\n",
              "  <thead>\n",
              "    <tr style=\"text-align: right;\">\n",
              "      <th></th>\n",
              "      <th>chr</th>\n",
              "      <th>source</th>\n",
              "      <th>feature_type</th>\n",
              "      <th>start</th>\n",
              "      <th>end</th>\n",
              "      <th>score</th>\n",
              "      <th>strand</th>\n",
              "      <th>phase</th>\n",
              "      <th>info</th>\n",
              "      <th>annotation</th>\n",
              "      <th>candidate</th>\n",
              "    </tr>\n",
              "  </thead>\n",
              "  <tbody>\n",
              "    <tr>\n",
              "      <th>0</th>\n",
              "      <td>PaC4</td>\n",
              "      <td>pyrodigal_v2.1.0</td>\n",
              "      <td>CDS</td>\n",
              "      <td>1</td>\n",
              "      <td>1578</td>\n",
              "      <td>272.3</td>\n",
              "      <td>+</td>\n",
              "      <td>0</td>\n",
              "      <td>ID=PaC4_1;partial=10;start_type=Edge;rbs_motif...</td>\n",
              "      <td>{'ID': 'PaC4_1', 'partial': '10', 'start_type'...</td>\n",
              "      <td>exclude</td>\n",
              "    </tr>\n",
              "    <tr>\n",
              "      <th>1</th>\n",
              "      <td>PaC4</td>\n",
              "      <td>pyrodigal_v2.1.0</td>\n",
              "      <td>CDS</td>\n",
              "      <td>1607</td>\n",
              "      <td>2710</td>\n",
              "      <td>250.1</td>\n",
              "      <td>+</td>\n",
              "      <td>0</td>\n",
              "      <td>ID=PaC4_2;partial=00;start_type=ATG;rbs_motif=...</td>\n",
              "      <td>{'ID': 'PaC4_2', 'partial': '00', 'start_type'...</td>\n",
              "      <td>exclude</td>\n",
              "    </tr>\n",
              "    <tr>\n",
              "      <th>2</th>\n",
              "      <td>PaC4</td>\n",
              "      <td>pyrodigal_v2.1.0</td>\n",
              "      <td>CDS</td>\n",
              "      <td>2720</td>\n",
              "      <td>3829</td>\n",
              "      <td>107.5</td>\n",
              "      <td>+</td>\n",
              "      <td>0</td>\n",
              "      <td>ID=PaC4_3;partial=00;start_type=ATG;rbs_motif=...</td>\n",
              "      <td>{'ID': 'PaC4_3', 'partial': '00', 'start_type'...</td>\n",
              "      <td>exclude</td>\n",
              "    </tr>\n",
              "    <tr>\n",
              "      <th>3</th>\n",
              "      <td>PaC4</td>\n",
              "      <td>pyrodigal_v2.1.0</td>\n",
              "      <td>CDS</td>\n",
              "      <td>3826</td>\n",
              "      <td>6246</td>\n",
              "      <td>615.7</td>\n",
              "      <td>+</td>\n",
              "      <td>0</td>\n",
              "      <td>ID=PaC4_4;partial=00;start_type=ATG;rbs_motif=...</td>\n",
              "      <td>{'ID': 'PaC4_4', 'partial': '00', 'start_type'...</td>\n",
              "      <td>exclude</td>\n",
              "    </tr>\n",
              "    <tr>\n",
              "      <th>4</th>\n",
              "      <td>PaC4</td>\n",
              "      <td>pyrodigal_v2.1.0</td>\n",
              "      <td>CDS</td>\n",
              "      <td>6558</td>\n",
              "      <td>7331</td>\n",
              "      <td>178.4</td>\n",
              "      <td>-</td>\n",
              "      <td>0</td>\n",
              "      <td>ID=PaC4_5;partial=00;start_type=ATG;rbs_motif=...</td>\n",
              "      <td>{'ID': 'PaC4_5', 'partial': '00', 'start_type'...</td>\n",
              "      <td>exclude</td>\n",
              "    </tr>\n",
              "    <tr>\n",
              "      <th>...</th>\n",
              "      <td>...</td>\n",
              "      <td>...</td>\n",
              "      <td>...</td>\n",
              "      <td>...</td>\n",
              "      <td>...</td>\n",
              "      <td>...</td>\n",
              "      <td>...</td>\n",
              "      <td>...</td>\n",
              "      <td>...</td>\n",
              "      <td>...</td>\n",
              "      <td>...</td>\n",
              "    </tr>\n",
              "    <tr>\n",
              "      <th>6855</th>\n",
              "      <td>PaC4</td>\n",
              "      <td>pyrodigal_v2.1.0</td>\n",
              "      <td>CDS</td>\n",
              "      <td>7340457</td>\n",
              "      <td>7340681</td>\n",
              "      <td>29.9</td>\n",
              "      <td>-</td>\n",
              "      <td>0</td>\n",
              "      <td>ID=PaC4_6856;partial=00;start_type=ATG;rbs_mot...</td>\n",
              "      <td>{'ID': 'PaC4_6856', 'partial': '00', 'start_ty...</td>\n",
              "      <td>exclude</td>\n",
              "    </tr>\n",
              "    <tr>\n",
              "      <th>6856</th>\n",
              "      <td>PaC4</td>\n",
              "      <td>pyrodigal_v2.1.0</td>\n",
              "      <td>CDS</td>\n",
              "      <td>7341176</td>\n",
              "      <td>7342543</td>\n",
              "      <td>222.8</td>\n",
              "      <td>-</td>\n",
              "      <td>0</td>\n",
              "      <td>ID=PaC4_6857;partial=00;start_type=ATG;rbs_mot...</td>\n",
              "      <td>{'ID': 'PaC4_6857', 'partial': '00', 'start_ty...</td>\n",
              "      <td>exclude</td>\n",
              "    </tr>\n",
              "    <tr>\n",
              "      <th>6857</th>\n",
              "      <td>PaC4</td>\n",
              "      <td>pyrodigal_v2.1.0</td>\n",
              "      <td>CDS</td>\n",
              "      <td>7342614</td>\n",
              "      <td>7344350</td>\n",
              "      <td>380.6</td>\n",
              "      <td>-</td>\n",
              "      <td>0</td>\n",
              "      <td>ID=PaC4_6858;partial=00;start_type=ATG;rbs_mot...</td>\n",
              "      <td>{'ID': 'PaC4_6858', 'partial': '00', 'start_ty...</td>\n",
              "      <td>exclude</td>\n",
              "    </tr>\n",
              "    <tr>\n",
              "      <th>6858</th>\n",
              "      <td>PaC4</td>\n",
              "      <td>pyrodigal_v2.1.0</td>\n",
              "      <td>CDS</td>\n",
              "      <td>7344591</td>\n",
              "      <td>7344998</td>\n",
              "      <td>32.9</td>\n",
              "      <td>-</td>\n",
              "      <td>0</td>\n",
              "      <td>ID=PaC4_6859;partial=00;start_type=GTG;rbs_mot...</td>\n",
              "      <td>{'ID': 'PaC4_6859', 'partial': '00', 'start_ty...</td>\n",
              "      <td>exclude</td>\n",
              "    </tr>\n",
              "    <tr>\n",
              "      <th>6859</th>\n",
              "      <td>PaC4</td>\n",
              "      <td>pyrodigal_v2.1.0</td>\n",
              "      <td>CDS</td>\n",
              "      <td>7345013</td>\n",
              "      <td>7345147</td>\n",
              "      <td>6.4</td>\n",
              "      <td>-</td>\n",
              "      <td>0</td>\n",
              "      <td>ID=PaC4_6860;partial=00;start_type=ATG;rbs_mot...</td>\n",
              "      <td>{'ID': 'PaC4_6860', 'partial': '00', 'start_ty...</td>\n",
              "      <td>exclude</td>\n",
              "    </tr>\n",
              "  </tbody>\n",
              "</table>\n",
              "<p>6860 rows × 11 columns</p>\n",
              "</div>\n",
              "      <button class=\"colab-df-convert\" onclick=\"convertToInteractive('df-4dc8a53c-733f-4437-8170-d17748861eed')\"\n",
              "              title=\"Convert this dataframe to an interactive table.\"\n",
              "              style=\"display:none;\">\n",
              "        \n",
              "  <svg xmlns=\"http://www.w3.org/2000/svg\" height=\"24px\"viewBox=\"0 0 24 24\"\n",
              "       width=\"24px\">\n",
              "    <path d=\"M0 0h24v24H0V0z\" fill=\"none\"/>\n",
              "    <path d=\"M18.56 5.44l.94 2.06.94-2.06 2.06-.94-2.06-.94-.94-2.06-.94 2.06-2.06.94zm-11 1L8.5 8.5l.94-2.06 2.06-.94-2.06-.94L8.5 2.5l-.94 2.06-2.06.94zm10 10l.94 2.06.94-2.06 2.06-.94-2.06-.94-.94-2.06-.94 2.06-2.06.94z\"/><path d=\"M17.41 7.96l-1.37-1.37c-.4-.4-.92-.59-1.43-.59-.52 0-1.04.2-1.43.59L10.3 9.45l-7.72 7.72c-.78.78-.78 2.05 0 2.83L4 21.41c.39.39.9.59 1.41.59.51 0 1.02-.2 1.41-.59l7.78-7.78 2.81-2.81c.8-.78.8-2.07 0-2.86zM5.41 20L4 18.59l7.72-7.72 1.47 1.35L5.41 20z\"/>\n",
              "  </svg>\n",
              "      </button>\n",
              "      \n",
              "  <style>\n",
              "    .colab-df-container {\n",
              "      display:flex;\n",
              "      flex-wrap:wrap;\n",
              "      gap: 12px;\n",
              "    }\n",
              "\n",
              "    .colab-df-convert {\n",
              "      background-color: #E8F0FE;\n",
              "      border: none;\n",
              "      border-radius: 50%;\n",
              "      cursor: pointer;\n",
              "      display: none;\n",
              "      fill: #1967D2;\n",
              "      height: 32px;\n",
              "      padding: 0 0 0 0;\n",
              "      width: 32px;\n",
              "    }\n",
              "\n",
              "    .colab-df-convert:hover {\n",
              "      background-color: #E2EBFA;\n",
              "      box-shadow: 0px 1px 2px rgba(60, 64, 67, 0.3), 0px 1px 3px 1px rgba(60, 64, 67, 0.15);\n",
              "      fill: #174EA6;\n",
              "    }\n",
              "\n",
              "    [theme=dark] .colab-df-convert {\n",
              "      background-color: #3B4455;\n",
              "      fill: #D2E3FC;\n",
              "    }\n",
              "\n",
              "    [theme=dark] .colab-df-convert:hover {\n",
              "      background-color: #434B5C;\n",
              "      box-shadow: 0px 1px 3px 1px rgba(0, 0, 0, 0.15);\n",
              "      filter: drop-shadow(0px 1px 2px rgba(0, 0, 0, 0.3));\n",
              "      fill: #FFFFFF;\n",
              "    }\n",
              "  </style>\n",
              "\n",
              "      <script>\n",
              "        const buttonEl =\n",
              "          document.querySelector('#df-4dc8a53c-733f-4437-8170-d17748861eed button.colab-df-convert');\n",
              "        buttonEl.style.display =\n",
              "          google.colab.kernel.accessAllowed ? 'block' : 'none';\n",
              "\n",
              "        async function convertToInteractive(key) {\n",
              "          const element = document.querySelector('#df-4dc8a53c-733f-4437-8170-d17748861eed');\n",
              "          const dataTable =\n",
              "            await google.colab.kernel.invokeFunction('convertToInteractive',\n",
              "                                                     [key], {});\n",
              "          if (!dataTable) return;\n",
              "\n",
              "          const docLinkHtml = 'Like what you see? Visit the ' +\n",
              "            '<a target=\"_blank\" href=https://colab.research.google.com/notebooks/data_table.ipynb>data table notebook</a>'\n",
              "            + ' to learn more about interactive tables.';\n",
              "          element.innerHTML = '';\n",
              "          dataTable['output_type'] = 'display_data';\n",
              "          await google.colab.output.renderOutput(dataTable, element);\n",
              "          const docLink = document.createElement('div');\n",
              "          docLink.innerHTML = docLinkHtml;\n",
              "          element.appendChild(docLink);\n",
              "        }\n",
              "      </script>\n",
              "    </div>\n",
              "  </div>\n",
              "  "
            ]
          },
          "metadata": {},
          "execution_count": 46
        }
      ]
    },
    {
      "cell_type": "markdown",
      "id": "2e5f2036-f1aa-47ff-9b67-8a75267c129d",
      "metadata": {
        "id": "2e5f2036-f1aa-47ff-9b67-8a75267c129d"
      },
      "source": [
        "### 6.1.2 Obtendo informações adicionais do dataframe `gff_df`"
      ]
    },
    {
      "cell_type": "code",
      "execution_count": 37,
      "id": "4e980429-b555-4adc-a4d2-685ad167924c",
      "metadata": {
        "id": "4e980429-b555-4adc-a4d2-685ad167924c"
      },
      "outputs": [],
      "source": [
        "def get_gff_info(info_str):\n",
        "    out_dict = {}\n",
        "    info_arr = info_str.split(\";\")\n",
        "    for line in info_arr:\n",
        "        if \"=\" in line:\n",
        "            line_arr    = line.split(\"=\")\n",
        "            field_name  = line_arr[0]\n",
        "            field_value = line_arr[1]\n",
        "            out_dict[field_name] = field_value\n",
        "    return out_dict"
      ]
    },
    {
      "cell_type": "code",
      "execution_count": 47,
      "id": "840b2cdd-520a-4d17-9d10-f916d83547c8",
      "metadata": {
        "id": "840b2cdd-520a-4d17-9d10-f916d83547c8"
      },
      "outputs": [],
      "source": [
        "gff_df[\"annotation\"] = gff_df[\"info\"].apply(lambda x: get_gff_info(x))"
      ]
    },
    {
      "cell_type": "markdown",
      "id": "215a0c0b-cd51-4c4a-93e7-af05bb351ca8",
      "metadata": {
        "id": "215a0c0b-cd51-4c4a-93e7-af05bb351ca8"
      },
      "source": [
        "### 6.1.3 Filtração de dados para incluir apenas genes identificados como associados à biossíntese de inseticidas\n"
      ]
    },
    {
      "cell_type": "code",
      "execution_count": 48,
      "id": "ade9f9ad-556f-4d17-afd3-9098c06cb258",
      "metadata": {
        "id": "ade9f9ad-556f-4d17-afd3-9098c06cb258"
      },
      "outputs": [],
      "source": [
        "gff_df[\"candidate\"] = gff_df[\"annotation\"].apply(lambda x: \"include\" if x[\"ID\"] in candidate_genes else \"exclude\")"
      ]
    },
    {
      "cell_type": "markdown",
      "id": "42e7d2b1-3a33-497f-aa4a-06fc6871269c",
      "metadata": {
        "id": "42e7d2b1-3a33-497f-aa4a-06fc6871269c"
      },
      "source": [
        "### 6.1.4 O resultado do filtração de dados é armazenado em um novo arquivo gff para que pyCirclize exiba apenas os genes de interesse"
      ]
    },
    {
      "cell_type": "code",
      "execution_count": 49,
      "id": "748f6deb-6e2a-458a-9f7f-e62759810cb4",
      "metadata": {
        "id": "748f6deb-6e2a-458a-9f7f-e62759810cb4"
      },
      "outputs": [],
      "source": [
        "candidate_df = gff_df.copy()\n",
        "candidate_df = candidate_df[candidate_df[\"candidate\"]==\"include\"][gff_columns]\n",
        "candidate_df.to_csv(\"candidates.gff\",sep=\"\\t\",header=False,index=False)"
      ]
    },
    {
      "cell_type": "markdown",
      "id": "cf598bd9-4f58-40e0-9984-9e95e2af38f7",
      "metadata": {
        "id": "cf598bd9-4f58-40e0-9984-9e95e2af38f7"
      },
      "source": [
        "### 6.1.5 Visualizando os dados com pyCirclize"
      ]
    },
    {
      "cell_type": "code",
      "execution_count": 42,
      "id": "cfa4aa58-f093-4761-b46c-a18ac13189f9",
      "metadata": {
        "id": "cfa4aa58-f093-4761-b46c-a18ac13189f9",
        "colab": {
          "base_uri": "https://localhost:8080/",
          "height": 586
        },
        "outputId": "aabf2ca7-9df0-45de-b04c-b36994a58889"
      },
      "outputs": [
        {
          "output_type": "display_data",
          "data": {
            "text/plain": [
              "<Figure size 500x800 with 1 Axes>"
            ],
            "image/png": "[encoded data removed]"
          },
          "metadata": {
            "needs_background": "light"
          }
        }
      ],
      "source": [
        "circos = Circos(sectors={accession: genome_length})\n",
        "circos.text(\"Pseudomonas sp.\")\n",
        "circos_gff = Gff(gff_file=\"candidates.gff\")\n",
        "sector = circos.get_sector(accession)\n",
        "sector = circos.sectors[0]\n",
        "cds_track = sector.add_track((80, 100))\n",
        "cds_track.axis(fc=\"#EEEEEE\", ec=\"none\")\n",
        "cds_track.genomic_features(circos_gff.extract_features(\"CDS\", target_strand =  1), r_lim=(90, 100),fc=\"red\" )\n",
        "cds_track.genomic_features(circos_gff.extract_features(\"CDS\", target_strand = -1), r_lim=(80,  90),fc=\"blue\")\n",
        "pos_list, labels = [], []\n",
        "cds_track.xticks_by_interval(\n",
        "    interval=500000,\n",
        "    label_formatter=lambda label_value: f\"{label_value/ 1000000:.1f} Mb\",\n",
        "    label_orientation=\"vertical\")\n",
        "fig = circos.plotfig().set_figwidth(5)"
      ]
    }
  ],
  "metadata": {
    "kernelspec": {
      "display_name": "Python 3 (ipykernel)",
      "language": "python",
      "name": "python3"
    },
    "language_info": {
      "codemirror_mode": {
        "name": "ipython",
        "version": 3
      },
      "file_extension": ".py",
      "mimetype": "text/x-python",
      "name": "python",
      "nbconvert_exporter": "python",
      "pygments_lexer": "ipython3",
      "version": "3.9.15"
    },
    "colab": {
      "provenance": [],
      "include_colab_link": true
    }
  },
  "nbformat": 4,
  "nbformat_minor": 5
}